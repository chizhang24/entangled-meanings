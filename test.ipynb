{
 "cells": [
  {
   "cell_type": "code",
   "execution_count": 35,
   "metadata": {},
   "outputs": [],
   "source": [
    "from Data import amazon_data_loader, lambeq_data_loader"
   ]
  },
  {
   "cell_type": "code",
   "execution_count": 36,
   "metadata": {},
   "outputs": [],
   "source": [
    "X, Y = amazon_data_loader.wv_load()"
   ]
  },
  {
   "cell_type": "code",
   "execution_count": 37,
   "metadata": {},
   "outputs": [],
   "source": [
    "import pennylane as qml\n",
    "from quantum_classifier import main as qc_main"
   ]
  },
  {
   "cell_type": "code",
   "execution_count": 38,
   "metadata": {},
   "outputs": [],
   "source": [
    "reps = 10\n",
    "steps = 100\n",
    "encoding = 'dc'"
   ]
  },
  {
   "cell_type": "code",
   "execution_count": 39,
   "metadata": {},
   "outputs": [
    {
     "name": "stdout",
     "output_type": "stream",
     "text": [
      "n=8, N=255, w=15, x=200\n",
      "train=120, val=40, test=40, batch=12\n",
      "\n",
      "NumPy interface:\n",
      "Error in classifier: maximum supported dimension for an ndarray is 32, found 255\n"
     ]
    }
   ],
   "source": [
    "classifier_results = qc_main(X, Y, encoding=encoding, reps=reps, steps=steps)"
   ]
  }
 ],
 "metadata": {
  "kernelspec": {
   "display_name": "q_dp_env",
   "language": "python",
   "name": "python3"
  },
  "language_info": {
   "codemirror_mode": {
    "name": "ipython",
    "version": 3
   },
   "file_extension": ".py",
   "mimetype": "text/x-python",
   "name": "python",
   "nbconvert_exporter": "python",
   "pygments_lexer": "ipython3",
   "version": "3.9.18"
  }
 },
 "nbformat": 4,
 "nbformat_minor": 2
}
